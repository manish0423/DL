{
 "cells": [
  {
   "cell_type": "code",
   "execution_count": 10,
   "id": "df94f025-49c2-436d-959c-4ad4dc5b5337",
   "metadata": {},
   "outputs": [],
   "source": [
    "import tensorflow as tf\n",
    "from tensorflow import keras\n",
    "from keras import layers,models\n",
    "import numpy as np"
   ]
  },
  {
   "cell_type": "code",
   "execution_count": null,
   "id": "aa58ba58-cef8-4459-97a4-bd76ce4be67d",
   "metadata": {},
   "outputs": [],
   "source": []
  },
  {
   "cell_type": "code",
   "execution_count": 11,
   "id": "263bc912-b7bc-4566-9cef-209156e6580f",
   "metadata": {},
   "outputs": [],
   "source": [
    "(x_train,y_train),(x_test,y_test)=tf.keras.datasets.mnist.load_data();"
   ]
  },
  {
   "cell_type": "code",
   "execution_count": 12,
   "id": "1745cb68-53fd-4710-b661-b082d75c0e83",
   "metadata": {},
   "outputs": [],
   "source": [
    "x_test=x_test/255\n",
    "x_train=x_train/255"
   ]
  },
  {
   "cell_type": "code",
   "execution_count": null,
   "id": "7db4ae11-2192-4df2-944b-39167ae7b13b",
   "metadata": {},
   "outputs": [],
   "source": []
  },
  {
   "cell_type": "code",
   "execution_count": 13,
   "id": "8092cad9-8f46-46fa-bd99-c3cc4bffad07",
   "metadata": {},
   "outputs": [],
   "source": [
    "x_train = x_train.reshape((-1, 28, 28, 1))\n",
    "x_test = x_test.reshape((-1, 28, 28, 1))"
   ]
  },
  {
   "cell_type": "code",
   "execution_count": null,
   "id": "d727820a-a468-481d-86b2-5e18e56fd16a",
   "metadata": {},
   "outputs": [],
   "source": []
  },
  {
   "cell_type": "code",
   "execution_count": 14,
   "id": "7f810c11-2ee7-49cb-8016-f9221894526d",
   "metadata": {},
   "outputs": [],
   "source": [
    "#create encoder\n",
    "encoder=models.Sequential([\n",
    "    layers.Input(shape=(28,28,1)),\n",
    "    layers.Conv2D(32,(3,3),activation='relu',padding='same'),\n",
    "    layers.MaxPooling2D(2,2),\n",
    "    layers.Conv2D(64,(3,3),activation='relu',padding='same'),\n",
    "    layers.MaxPooling2D(2,2),\n",
    "\n",
    "])\n"
   ]
  },
  {
   "cell_type": "code",
   "execution_count": null,
   "id": "76bdba6a-5058-48b7-9707-682652405a84",
   "metadata": {},
   "outputs": [],
   "source": []
  },
  {
   "cell_type": "code",
   "execution_count": 15,
   "id": "dd37310b-1f8d-438c-b42c-6a4189966d16",
   "metadata": {},
   "outputs": [],
   "source": [
    "#decoder\n",
    "decoder=models.Sequential([\n",
    "    layers.Conv2DTranspose(64,(3,3),activation=\"relu\", input_shape=(7,7,64),padding='same'),\n",
    "    layers.UpSampling2D((2,2)),\n",
    "    layers.Conv2DTranspose(32,(3,3),activation='relu',padding='same'),\n",
    "    layers.UpSampling2D((2,2)),\n",
    "    layers.Conv2DTranspose(1,(3,3),activation='sigmoid',padding='same')\n",
    "])\n"
   ]
  },
  {
   "cell_type": "code",
   "execution_count": null,
   "id": "db26a8c9-3db8-43f9-86dc-90b1465ad48f",
   "metadata": {},
   "outputs": [],
   "source": []
  },
  {
   "cell_type": "code",
   "execution_count": 16,
   "id": "3ada64f8-c061-42b7-a533-d4c74ccb964e",
   "metadata": {},
   "outputs": [],
   "source": [
    "\n",
    "#crete autoencoder\n",
    "autoencoder=models.Sequential([encoder,decoder])"
   ]
  },
  {
   "cell_type": "code",
   "execution_count": null,
   "id": "d756c333-fc1e-4e56-9db0-96e2a1c40e82",
   "metadata": {},
   "outputs": [],
   "source": []
  },
  {
   "cell_type": "code",
   "execution_count": 17,
   "id": "38129874-219a-41f8-ba33-ad47b49e008b",
   "metadata": {},
   "outputs": [],
   "source": [
    "\n",
    "#compile\n",
    "autoencoder.compile(\n",
    "    optimizer='adam',\n",
    "    loss='binary_crossentropy',\n",
    "    metrics=['accuracy']\n",
    ") "
   ]
  },
  {
   "cell_type": "code",
   "execution_count": null,
   "id": "5bcb9ce4-efd1-41cd-8244-4625feb64670",
   "metadata": {},
   "outputs": [],
   "source": []
  },
  {
   "cell_type": "code",
   "execution_count": 18,
   "id": "512d14e3-dd9b-43bc-8394-97c56c9cca35",
   "metadata": {},
   "outputs": [
    {
     "name": "stdout",
     "output_type": "stream",
     "text": [
      "Epoch 1/2\n",
      "\u001b[1m469/469\u001b[0m \u001b[32m━━━━━━━━━━━━━━━━━━━━\u001b[0m\u001b[37m\u001b[0m \u001b[1m68s\u001b[0m 136ms/step - accuracy: 0.8060 - loss: 0.1727 - val_accuracy: 0.8141 - val_loss: 0.0727\n",
      "Epoch 2/2\n",
      "\u001b[1m469/469\u001b[0m \u001b[32m━━━━━━━━━━━━━━━━━━━━\u001b[0m\u001b[37m\u001b[0m \u001b[1m61s\u001b[0m 130ms/step - accuracy: 0.8154 - loss: 0.0722 - val_accuracy: 0.8144 - val_loss: 0.0692\n"
     ]
    }
   ],
   "source": [
    "h=autoencoder.fit(x_train,x_train,validation_data=(x_test,x_test),epochs=2,batch_size=128)"
   ]
  },
  {
   "cell_type": "code",
   "execution_count": null,
   "id": "6ee3c6fc-9e5e-438b-8708-8d061f2e678d",
   "metadata": {},
   "outputs": [],
   "source": []
  }
 ],
 "metadata": {
  "kernelspec": {
   "display_name": "Python 3 (ipykernel)",
   "language": "python",
   "name": "python3"
  },
  "language_info": {
   "codemirror_mode": {
    "name": "ipython",
    "version": 3
   },
   "file_extension": ".py",
   "mimetype": "text/x-python",
   "name": "python",
   "nbconvert_exporter": "python",
   "pygments_lexer": "ipython3",
   "version": "3.12.4"
  }
 },
 "nbformat": 4,
 "nbformat_minor": 5
}
